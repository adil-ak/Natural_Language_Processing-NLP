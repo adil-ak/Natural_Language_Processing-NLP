{
  "nbformat": 4,
  "nbformat_minor": 0,
  "metadata": {
    "colab": {
      "provenance": [],
      "authorship_tag": "ABX9TyPED/fjp55R2OyiXGEqc9/z"
    },
    "kernelspec": {
      "name": "python3",
      "display_name": "Python 3"
    },
    "language_info": {
      "name": "python"
    }
  },
  "cells": [
    {
      "cell_type": "markdown",
      "source": [
        "#Co-Occurance Matrix"
      ],
      "metadata": {
        "id": "aXg38lEucA18"
      }
    },
    {
      "cell_type": "markdown",
      "source": [
        "Shows how frequently words appear together in a corpus."
      ],
      "metadata": {
        "id": "E60VdzuHcFiO"
      }
    },
    {
      "cell_type": "code",
      "source": [
        "import numpy as np\n",
        "import pandas as pd\n",
        "from sklearn.feature_extraction.text import CountVectorizer"
      ],
      "metadata": {
        "id": "80cQh1QvcV8R"
      },
      "execution_count": null,
      "outputs": []
    },
    {
      "cell_type": "code",
      "source": [
        "#Corpus\n",
        "corpus= [\"the cat sat on the mat\",\"the dog sat on the log\"]"
      ],
      "metadata": {
        "id": "q5QGgkQUcYIX"
      },
      "execution_count": null,
      "outputs": []
    },
    {
      "cell_type": "code",
      "source": [
        "#Create a CountVectorizer to convert words to numbers\n",
        "vectorizer=CountVectorizer()\n",
        "x = vectorizer.fit_transform(corpus)"
      ],
      "metadata": {
        "id": "csnS-hudcjD5"
      },
      "execution_count": null,
      "outputs": []
    },
    {
      "cell_type": "code",
      "source": [
        "#Convert to co-occurance matrix\n",
        "co_occurance_matrix=(x.T*x)\n",
        "#np.fill_diagonal(co_occurance_matrix.toarray(), 0)"
      ],
      "metadata": {
        "id": "g893q8Uadq1m"
      },
      "execution_count": null,
      "outputs": []
    },
    {
      "cell_type": "code",
      "source": [
        "# Convert to Data Frame for better readability\n",
        "co_occcurance_df=pd.DataFrame(co_occurance_matrix.toarray(),\n",
        "                              index=vectorizer.get_feature_names_out(),\n",
        "                              columns=vectorizer.get_feature_names_out())"
      ],
      "metadata": {
        "id": "QQiR02sTeEpV"
      },
      "execution_count": null,
      "outputs": []
    },
    {
      "cell_type": "code",
      "source": [
        "print(\"Co-occurance Matrix is : \")\n",
        "print(co_occcurance_df)"
      ],
      "metadata": {
        "colab": {
          "base_uri": "https://localhost:8080/"
        },
        "id": "VQrPoI9Ger8-",
        "outputId": "d969b2bb-e0e5-4d38-91da-828133fa26db"
      },
      "execution_count": null,
      "outputs": [
        {
          "output_type": "stream",
          "name": "stdout",
          "text": [
            "Co-occurance Matrix is : \n",
            "     cat  dog  log  mat  on  sat  the\n",
            "cat    1    0    0    1   1    1    2\n",
            "dog    0    1    1    0   1    1    2\n",
            "log    0    1    1    0   1    1    2\n",
            "mat    1    0    0    1   1    1    2\n",
            "on     1    1    1    1   2    2    4\n",
            "sat    1    1    1    1   2    2    4\n",
            "the    2    2    2    2   4    4    8\n"
          ]
        }
      ]
    },
    {
      "cell_type": "code",
      "source": [
        "vectorizer.get_feature_names_out()"
      ],
      "metadata": {
        "colab": {
          "base_uri": "https://localhost:8080/"
        },
        "id": "XvwD0a5geoDP",
        "outputId": "b0020525-6d6c-4296-d6c7-e5cb039066ec"
      },
      "execution_count": null,
      "outputs": [
        {
          "output_type": "execute_result",
          "data": {
            "text/plain": [
              "array(['cat', 'dog', 'log', 'mat', 'on', 'sat', 'the'], dtype=object)"
            ]
          },
          "metadata": {},
          "execution_count": 17
        }
      ]
    },
    {
      "cell_type": "markdown",
      "source": [
        "#Cosine Similarity"
      ],
      "metadata": {
        "id": "ZjCw0WFScjtU"
      }
    },
    {
      "cell_type": "markdown",
      "source": [
        "Measures the cosine of the angle between two word vectors in a vector space."
      ],
      "metadata": {
        "id": "QsMNoEw2cmOg"
      }
    },
    {
      "cell_type": "code",
      "source": [
        "from sklearn.metrics.pairwise import cosine_similarity"
      ],
      "metadata": {
        "id": "wj4zQeoRe6hj"
      },
      "execution_count": null,
      "outputs": []
    },
    {
      "cell_type": "code",
      "source": [
        "# Example word vectors (from a hypothetical embedding)\n",
        "word_vectors= {\n",
        "    \"cat\" : [1,0,0,0],\n",
        "    \"dog\" : [0,1,0,0],\n",
        "    \"mat\" : [0,0,1,0],\n",
        "    \"log\" : [0,0,0,1]\n",
        "}"
      ],
      "metadata": {
        "id": "RB5IsK9lfWld"
      },
      "execution_count": null,
      "outputs": []
    },
    {
      "cell_type": "code",
      "source": [
        "# Convert to a matrix\n",
        "import numpy as np\n",
        "vectors=np.array(list(word_vectors.values()))\n",
        "vectors"
      ],
      "metadata": {
        "colab": {
          "base_uri": "https://localhost:8080/"
        },
        "id": "4WE1HYCGf0Pv",
        "outputId": "e52bf4cc-3817-49be-b6b8-c8e96d0dca58"
      },
      "execution_count": null,
      "outputs": [
        {
          "output_type": "execute_result",
          "data": {
            "text/plain": [
              "array([[1, 0, 0, 0],\n",
              "       [0, 1, 0, 0],\n",
              "       [0, 0, 1, 0],\n",
              "       [0, 0, 0, 1]])"
            ]
          },
          "metadata": {},
          "execution_count": 20
        }
      ]
    },
    {
      "cell_type": "code",
      "source": [
        "# Compute cosine similarity\n",
        "cos_sim=cosine_similarity(vectors)"
      ],
      "metadata": {
        "id": "h9RBRutUgLiK"
      },
      "execution_count": null,
      "outputs": []
    },
    {
      "cell_type": "code",
      "source": [
        "print(cos_sim)"
      ],
      "metadata": {
        "colab": {
          "base_uri": "https://localhost:8080/"
        },
        "id": "8DbHH0omgUqS",
        "outputId": "79408275-8eee-48f4-d93e-065ae938fc6d"
      },
      "execution_count": null,
      "outputs": [
        {
          "output_type": "stream",
          "name": "stdout",
          "text": [
            "[[1. 0. 0. 0.]\n",
            " [0. 1. 0. 0.]\n",
            " [0. 0. 1. 0.]\n",
            " [0. 0. 0. 1.]]\n"
          ]
        }
      ]
    },
    {
      "cell_type": "code",
      "source": [
        "# convert to Data Frame\n",
        "cos_sim_df=pd.DataFrame(cos_sim,index=word_vectors.keys(),columns=word_vectors.keys())\n",
        "print(\"\\nCosine Similarity Matrix = \")\n",
        "print(cos_sim_df)"
      ],
      "metadata": {
        "colab": {
          "base_uri": "https://localhost:8080/"
        },
        "id": "bF6br69VgZlt",
        "outputId": "cbe5f214-7825-46f5-a472-398b1c55f0f5"
      },
      "execution_count": null,
      "outputs": [
        {
          "output_type": "stream",
          "name": "stdout",
          "text": [
            "\n",
            "Cosine Similarity Matrix = \n",
            "     cat  dog  mat  log\n",
            "cat  1.0  0.0  0.0  0.0\n",
            "dog  0.0  1.0  0.0  0.0\n",
            "mat  0.0  0.0  1.0  0.0\n",
            "log  0.0  0.0  0.0  1.0\n"
          ]
        }
      ]
    }
  ]
}
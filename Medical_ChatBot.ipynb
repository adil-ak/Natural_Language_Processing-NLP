{
  "nbformat": 4,
  "nbformat_minor": 0,
  "metadata": {
    "colab": {
      "provenance": [],
      "authorship_tag": "ABX9TyMaLaMVJELBDR8ta7Wy/cbX"
    },
    "kernelspec": {
      "name": "python3",
      "display_name": "Python 3"
    },
    "language_info": {
      "name": "python"
    }
  },
  "cells": [
    {
      "cell_type": "code",
      "source": [
        "import nltk\n",
        "import random\n",
        "import numpy as np\n",
        "import string\n",
        "import warnings\n",
        "from sklearn.feature_extraction.text import TfidfVectorizer\n",
        "from sklearn.metrics.pairwise import cosine_similarity\n",
        "from nltk.tokenize import word_tokenize\n",
        "from nltk.corpus import wordnet\n",
        "from nltk.stem import WordNetLemmatizer\n",
        "\n",
        "nltk.download('punkt')\n",
        "nltk.download('wordnet')"
      ],
      "metadata": {
        "colab": {
          "base_uri": "https://localhost:8080/"
        },
        "id": "NheN7rMVmDuN",
        "outputId": "57581bff-fb71-45b9-8b57-534de5061fa1"
      },
      "execution_count": null,
      "outputs": [
        {
          "output_type": "stream",
          "name": "stderr",
          "text": [
            "[nltk_data] Downloading package punkt to /root/nltk_data...\n",
            "[nltk_data]   Package punkt is already up-to-date!\n",
            "[nltk_data] Downloading package wordnet to /root/nltk_data...\n",
            "[nltk_data]   Package wordnet is already up-to-date!\n"
          ]
        },
        {
          "output_type": "execute_result",
          "data": {
            "text/plain": [
              "True"
            ]
          },
          "metadata": {},
          "execution_count": 36
        }
      ]
    },
    {
      "cell_type": "code",
      "source": [
        "Chatbot ={\n",
        "    \"Hello\":\"Hi, I'm Here to assist to you for your Medical Consultation ---- How Can I help you ?\",\n",
        "    \"I have some Health issues\":\"Okay, Can i know what's your decease?\",\n",
        "    \"I have fever\":\"Got it, Can i Prescribe you some natural Methods for your Releif ?\",\n",
        "    \"Yes, What should i do?\":\"Take a Good Nap, Drink Plenty of Water...\",\n",
        "    \"Thanku\":\"If you are still not get releif, Take a Premeium Plan to Consult with out Online Doctors:\\n Click the Link Below!\",\n",
        "    \"default\":\"Sorry, i Cant understand you\"\n",
        "}"
      ],
      "metadata": {
        "id": "udAuyFoBmgzu"
      },
      "execution_count": null,
      "outputs": []
    },
    {
      "cell_type": "code",
      "source": [
        "Chatbot[\"Hello\"]"
      ],
      "metadata": {
        "colab": {
          "base_uri": "https://localhost:8080/",
          "height": 36
        },
        "id": "GoHiUyd3oEfu",
        "outputId": "2fad5588-89cd-40de-b5a2-cb1fce3f57bf"
      },
      "execution_count": null,
      "outputs": [
        {
          "output_type": "execute_result",
          "data": {
            "text/plain": [
              "\"Hi, I'm Here to assist to you for your Medical Consultation ---- How Can I help you ?\""
            ],
            "application/vnd.google.colaboratory.intrinsic+json": {
              "type": "string"
            }
          },
          "metadata": {},
          "execution_count": 38
        }
      ]
    },
    {
      "cell_type": "code",
      "source": [
        "lemmitizer=WordNetLemmatizer()\n",
        "\n",
        "def preprocess(text):\n",
        "  tokens = word_tokenize(text.lower())\n",
        "  tokens = [lemmitizer.lemmatize(word) for word in tokens if word not in string.punctuation]\n",
        "  return \" \".join(tokens)"
      ],
      "metadata": {
        "id": "DRgVak1Ko3tm"
      },
      "execution_count": null,
      "outputs": []
    },
    {
      "cell_type": "code",
      "source": [
        "def get_response(user_input):\n",
        "  user_input=preprocess(user_input)\n",
        "  responses=list(Chatbot.keys())\n",
        "\n",
        "  #Use TF-IDF to find the best Match\n",
        "  vectorizer=TfidfVectorizer()\n",
        "  vectors=vectorizer.fit_transform(responses+[user_input])\n",
        "  similarity=cosine_similarity(vectors[-1],vectors[:-1])\n",
        "\n",
        "  best_match=np.argmax(similarity)\n",
        "\n",
        "  if similarity[0,best_match]<0.2:\n",
        "    return responses[\"default\"]\n",
        "  else:\n",
        "    return Chatbot[responses[best_match]]"
      ],
      "metadata": {
        "id": "_efWAsIWzltm"
      },
      "execution_count": null,
      "outputs": []
    },
    {
      "cell_type": "code",
      "source": [
        "nltk.download('punkt_tab')"
      ],
      "metadata": {
        "colab": {
          "base_uri": "https://localhost:8080/"
        },
        "id": "6Mpv4dhh0-Vd",
        "outputId": "8468c233-7fb6-45fc-c341-91a5e7635b38"
      },
      "execution_count": null,
      "outputs": [
        {
          "output_type": "stream",
          "name": "stderr",
          "text": [
            "[nltk_data] Downloading package punkt_tab to /root/nltk_data...\n",
            "[nltk_data]   Unzipping tokenizers/punkt_tab.zip.\n"
          ]
        },
        {
          "output_type": "execute_result",
          "data": {
            "text/plain": [
              "True"
            ]
          },
          "metadata": {},
          "execution_count": 41
        }
      ]
    },
    {
      "cell_type": "code",
      "source": [
        "def chat():\n",
        "  print(\"Welcome to Medical Chatbot !, Type Bye to exit\")\n",
        "  while True:\n",
        "    user_input=input(\"You : \")\n",
        "    if user_input.lower()==\"bye\":\n",
        "      print(\"Thank You, Have a Nice Day !\")\n",
        "      break\n",
        "\n",
        "    response=get_response(user_input)\n",
        "    print(f\"Bot : {response}\")\n",
        "\n",
        "chat()"
      ],
      "metadata": {
        "colab": {
          "base_uri": "https://localhost:8080/"
        },
        "id": "MDHJn7uzq52O",
        "outputId": "963e7b7b-6a5a-411e-86ba-a4ec379f0811"
      },
      "execution_count": null,
      "outputs": [
        {
          "output_type": "stream",
          "name": "stdout",
          "text": [
            "Welcome to Medical Chatbot !, Type Bye to exit\n",
            "You : Hello\n",
            "Bot : Hi, I'm Here to assist to you for your Medical Consultation ---- How Can I help you ?\n",
            "You : I have some Health issues\n",
            "Bot : Okay, Can i know what's your decease?\n",
            "You : I have fever\n",
            "Bot : Got it, Can i Prescribe you some natural Methods for your Releif ?\n",
            "You : Yes, What should i do\n",
            "Bot : Take a Good Nap, Drink Plenty of Water...\n",
            "You : Thanku\n",
            "Bot : If you are still not get releif, Take a Premeium Plan to Consult with out Online Doctors:\n",
            " Click the Link Below!\n",
            "You : bye\n",
            "Thank You, Have a Nice Day !\n"
          ]
        }
      ]
    }
  ]
}
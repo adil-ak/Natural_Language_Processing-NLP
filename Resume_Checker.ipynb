{
  "nbformat": 4,
  "nbformat_minor": 0,
  "metadata": {
    "colab": {
      "provenance": [],
      "authorship_tag": "ABX9TyMQwf7HGgVii5AhX8d5g4F4",
      "include_colab_link": true
    },
    "kernelspec": {
      "name": "python3",
      "display_name": "Python 3"
    },
    "language_info": {
      "name": "python"
    }
  },
  "cells": [
    {
      "cell_type": "markdown",
      "metadata": {
        "id": "view-in-github",
        "colab_type": "text"
      },
      "source": [
        "<a href=\"https://colab.research.google.com/github/adil-ak/Natural_Language_Processing-NLP/blob/main/Resume_Checker.ipynb\" target=\"_parent\"><img src=\"https://colab.research.google.com/assets/colab-badge.svg\" alt=\"Open In Colab\"/></a>"
      ]
    },
    {
      "cell_type": "code",
      "source": [
        "# !pip install spacy pdfplumber docx2txt scikit-learn\n",
        "# !python -m spacy download en_core_web_sm"
      ],
      "metadata": {
        "id": "kEPVYQybvT74"
      },
      "execution_count": null,
      "outputs": []
    },
    {
      "cell_type": "code",
      "source": [
        "import spacy\n",
        "import pdfplumber\n",
        "from sklearn.feature_extraction.text import TfidfVectorizer\n",
        "from sklearn.metrics.pairwise import cosine_similarity\n",
        "import docx2txt"
      ],
      "metadata": {
        "id": "6dpc5jYYviZt"
      },
      "execution_count": null,
      "outputs": []
    },
    {
      "cell_type": "code",
      "source": [
        "def extract_text_from_pdf(pdf_path):\n",
        "  text = \"\"\n",
        "  with pdfplumber.open(pdf_path) as pdf:\n",
        "    for page in pdf.pages:\n",
        "      text =text+page.extract_text() +\"\\n\"\n",
        "  return text"
      ],
      "metadata": {
        "id": "AG1ZajjawTPq"
      },
      "execution_count": null,
      "outputs": []
    },
    {
      "cell_type": "code",
      "source": [
        "def extract_text_from_docx(docx_path):\n",
        "  return docx2txt.process(docx_path)"
      ],
      "metadata": {
        "id": "2nWITadXw50u"
      },
      "execution_count": null,
      "outputs": []
    },
    {
      "cell_type": "code",
      "source": [
        "nlp=spacy.load(\"en_core_web_sm\")\n",
        "\n",
        "def extract_entities(text):\n",
        "  doc=nlp(text)\n",
        "  #entities={ent.label:ent.text for ent in doc.ents}\n",
        "  entities={}\n",
        "  for ent in doc.ents:\n",
        "    entities.update({ent.label:ent.text})\n",
        "  return entities"
      ],
      "metadata": {
        "id": "jqfZUIPExQ7S"
      },
      "execution_count": null,
      "outputs": []
    },
    {
      "cell_type": "code",
      "source": [
        "def match_resume_with_job(resume_text,job_desc):\n",
        "  vectorizer=TfidfVectorizer()\n",
        "  tfidf_matrix=vectorizer.fit_transform([resume_text,job_desc])\n",
        "  similarity_score=cosine_similarity(tfidf_matrix[0:1],tfidf_matrix[1:2])[0][0]\n",
        "  return similarity_score"
      ],
      "metadata": {
        "id": "iuHThbQw0gzb"
      },
      "execution_count": null,
      "outputs": []
    },
    {
      "cell_type": "code",
      "source": [
        "from google.colab import files\n",
        "\n",
        "uploaded=files.upload()\n",
        "resume_file=list(uploaded.keys())[0]"
      ],
      "metadata": {
        "colab": {
          "base_uri": "https://localhost:8080/",
          "height": 73
        },
        "id": "MHjzCCtN6GXx",
        "outputId": "d7c85de7-a40d-4cb6-d94e-d24dd47122c2"
      },
      "execution_count": null,
      "outputs": [
        {
          "output_type": "display_data",
          "data": {
            "text/plain": [
              "<IPython.core.display.HTML object>"
            ],
            "text/html": [
              "\n",
              "     <input type=\"file\" id=\"files-a69e5c4a-e52f-4843-97c3-133422a45c3e\" name=\"files[]\" multiple disabled\n",
              "        style=\"border:none\" />\n",
              "     <output id=\"result-a69e5c4a-e52f-4843-97c3-133422a45c3e\">\n",
              "      Upload widget is only available when the cell has been executed in the\n",
              "      current browser session. Please rerun this cell to enable.\n",
              "      </output>\n",
              "      <script>// Copyright 2017 Google LLC\n",
              "//\n",
              "// Licensed under the Apache License, Version 2.0 (the \"License\");\n",
              "// you may not use this file except in compliance with the License.\n",
              "// You may obtain a copy of the License at\n",
              "//\n",
              "//      http://www.apache.org/licenses/LICENSE-2.0\n",
              "//\n",
              "// Unless required by applicable law or agreed to in writing, software\n",
              "// distributed under the License is distributed on an \"AS IS\" BASIS,\n",
              "// WITHOUT WARRANTIES OR CONDITIONS OF ANY KIND, either express or implied.\n",
              "// See the License for the specific language governing permissions and\n",
              "// limitations under the License.\n",
              "\n",
              "/**\n",
              " * @fileoverview Helpers for google.colab Python module.\n",
              " */\n",
              "(function(scope) {\n",
              "function span(text, styleAttributes = {}) {\n",
              "  const element = document.createElement('span');\n",
              "  element.textContent = text;\n",
              "  for (const key of Object.keys(styleAttributes)) {\n",
              "    element.style[key] = styleAttributes[key];\n",
              "  }\n",
              "  return element;\n",
              "}\n",
              "\n",
              "// Max number of bytes which will be uploaded at a time.\n",
              "const MAX_PAYLOAD_SIZE = 100 * 1024;\n",
              "\n",
              "function _uploadFiles(inputId, outputId) {\n",
              "  const steps = uploadFilesStep(inputId, outputId);\n",
              "  const outputElement = document.getElementById(outputId);\n",
              "  // Cache steps on the outputElement to make it available for the next call\n",
              "  // to uploadFilesContinue from Python.\n",
              "  outputElement.steps = steps;\n",
              "\n",
              "  return _uploadFilesContinue(outputId);\n",
              "}\n",
              "\n",
              "// This is roughly an async generator (not supported in the browser yet),\n",
              "// where there are multiple asynchronous steps and the Python side is going\n",
              "// to poll for completion of each step.\n",
              "// This uses a Promise to block the python side on completion of each step,\n",
              "// then passes the result of the previous step as the input to the next step.\n",
              "function _uploadFilesContinue(outputId) {\n",
              "  const outputElement = document.getElementById(outputId);\n",
              "  const steps = outputElement.steps;\n",
              "\n",
              "  const next = steps.next(outputElement.lastPromiseValue);\n",
              "  return Promise.resolve(next.value.promise).then((value) => {\n",
              "    // Cache the last promise value to make it available to the next\n",
              "    // step of the generator.\n",
              "    outputElement.lastPromiseValue = value;\n",
              "    return next.value.response;\n",
              "  });\n",
              "}\n",
              "\n",
              "/**\n",
              " * Generator function which is called between each async step of the upload\n",
              " * process.\n",
              " * @param {string} inputId Element ID of the input file picker element.\n",
              " * @param {string} outputId Element ID of the output display.\n",
              " * @return {!Iterable<!Object>} Iterable of next steps.\n",
              " */\n",
              "function* uploadFilesStep(inputId, outputId) {\n",
              "  const inputElement = document.getElementById(inputId);\n",
              "  inputElement.disabled = false;\n",
              "\n",
              "  const outputElement = document.getElementById(outputId);\n",
              "  outputElement.innerHTML = '';\n",
              "\n",
              "  const pickedPromise = new Promise((resolve) => {\n",
              "    inputElement.addEventListener('change', (e) => {\n",
              "      resolve(e.target.files);\n",
              "    });\n",
              "  });\n",
              "\n",
              "  const cancel = document.createElement('button');\n",
              "  inputElement.parentElement.appendChild(cancel);\n",
              "  cancel.textContent = 'Cancel upload';\n",
              "  const cancelPromise = new Promise((resolve) => {\n",
              "    cancel.onclick = () => {\n",
              "      resolve(null);\n",
              "    };\n",
              "  });\n",
              "\n",
              "  // Wait for the user to pick the files.\n",
              "  const files = yield {\n",
              "    promise: Promise.race([pickedPromise, cancelPromise]),\n",
              "    response: {\n",
              "      action: 'starting',\n",
              "    }\n",
              "  };\n",
              "\n",
              "  cancel.remove();\n",
              "\n",
              "  // Disable the input element since further picks are not allowed.\n",
              "  inputElement.disabled = true;\n",
              "\n",
              "  if (!files) {\n",
              "    return {\n",
              "      response: {\n",
              "        action: 'complete',\n",
              "      }\n",
              "    };\n",
              "  }\n",
              "\n",
              "  for (const file of files) {\n",
              "    const li = document.createElement('li');\n",
              "    li.append(span(file.name, {fontWeight: 'bold'}));\n",
              "    li.append(span(\n",
              "        `(${file.type || 'n/a'}) - ${file.size} bytes, ` +\n",
              "        `last modified: ${\n",
              "            file.lastModifiedDate ? file.lastModifiedDate.toLocaleDateString() :\n",
              "                                    'n/a'} - `));\n",
              "    const percent = span('0% done');\n",
              "    li.appendChild(percent);\n",
              "\n",
              "    outputElement.appendChild(li);\n",
              "\n",
              "    const fileDataPromise = new Promise((resolve) => {\n",
              "      const reader = new FileReader();\n",
              "      reader.onload = (e) => {\n",
              "        resolve(e.target.result);\n",
              "      };\n",
              "      reader.readAsArrayBuffer(file);\n",
              "    });\n",
              "    // Wait for the data to be ready.\n",
              "    let fileData = yield {\n",
              "      promise: fileDataPromise,\n",
              "      response: {\n",
              "        action: 'continue',\n",
              "      }\n",
              "    };\n",
              "\n",
              "    // Use a chunked sending to avoid message size limits. See b/62115660.\n",
              "    let position = 0;\n",
              "    do {\n",
              "      const length = Math.min(fileData.byteLength - position, MAX_PAYLOAD_SIZE);\n",
              "      const chunk = new Uint8Array(fileData, position, length);\n",
              "      position += length;\n",
              "\n",
              "      const base64 = btoa(String.fromCharCode.apply(null, chunk));\n",
              "      yield {\n",
              "        response: {\n",
              "          action: 'append',\n",
              "          file: file.name,\n",
              "          data: base64,\n",
              "        },\n",
              "      };\n",
              "\n",
              "      let percentDone = fileData.byteLength === 0 ?\n",
              "          100 :\n",
              "          Math.round((position / fileData.byteLength) * 100);\n",
              "      percent.textContent = `${percentDone}% done`;\n",
              "\n",
              "    } while (position < fileData.byteLength);\n",
              "  }\n",
              "\n",
              "  // All done.\n",
              "  yield {\n",
              "    response: {\n",
              "      action: 'complete',\n",
              "    }\n",
              "  };\n",
              "}\n",
              "\n",
              "scope.google = scope.google || {};\n",
              "scope.google.colab = scope.google.colab || {};\n",
              "scope.google.colab._files = {\n",
              "  _uploadFiles,\n",
              "  _uploadFilesContinue,\n",
              "};\n",
              "})(self);\n",
              "</script> "
            ]
          },
          "metadata": {}
        },
        {
          "output_type": "stream",
          "name": "stdout",
          "text": [
            "Saving ADIL Resume sd.pdf to ADIL Resume sd (1).pdf\n"
          ]
        }
      ]
    },
    {
      "cell_type": "code",
      "source": [
        "import os\n",
        "\n",
        "file_ext=os.path.splitext(resume_file)[1].lower()\n",
        "\n",
        "if file_ext==\".pdf\":\n",
        "  resume_text=extract_text_from_pdf(resume_file)\n",
        "elif file_ext==\".docx\":\n",
        "  resume_text=extract_text_from_docx(resume_file)\n",
        "else:\n",
        "  print(\"Unsupported document format\")\n",
        "  resume_text=\"\""
      ],
      "metadata": {
        "id": "zX2mghPZ1wvi"
      },
      "execution_count": null,
      "outputs": []
    },
    {
      "cell_type": "code",
      "source": [
        "job_description=\"\"\"Recent Computer Science graduate with a strong foundation in Software development, Data Science, AI, and ML.\n",
        "Skilled in analytical thinking, data annotation, and communication, seeking to leverage these abilities to deliver\n",
        "high-quality data solutions and support the development of machine learning models and Software Development.\n",
        "EDUCATION\n",
        "PG Diploma in Data Science with AI and ML, Cranes Varsity Expected 2025\n",
        "Bachelor of Technology, APJ Abdul Kalam Technological University 2020 - 2024\n",
        "Computer Science and Engineering (CGPA 7.44)\n",
        "Higher Secondary, Msphss Malappuram 2018 - 2020\n",
        "Science (72 %)\n",
        "SSLC, Msphss Malappuram 2018\n",
        "Marks (100 %)\n",
        "SKILLS\n",
        "Technical Skills Python, Java, C, Machine Learning, Deep Learning, Power BI, Excel, SQL\n",
        "Soft Skills Communication, Problem Solving, Analytical Thinking, Leadership, Quick Learner\n",
        "INTERNSHIP / WORK EXPERIENCE\n",
        "DATA SCIENCE TRAINEE Sep 2023 - Nov 2023\n",
        "Data Spark Kozhikode, Kerala\n",
        "• Conducted exploratory data analysis (EDA) to uncover patterns and trends.\n",
        "• Developed predictive models to inform preprocessing strategies, improving workflow efficiency.\n",
        "CERTIFICATIONS AND ACHIEVEMENTS\n",
        "First Prize in All Kerala Hackathon\n",
        "48 Hour Hackathon conducted by Scale Up Business Conclave\n",
        "NASA Galectic Problem Solver Award\n",
        "Certificate for Successfully solved NASA’s International Space App Challenges\n",
        "Zilckathon Winner\n",
        "Won the Internal Ideathon event conducted by Zilmoney Operations\n",
        "Saylor Award\n",
        "Received the Saylor Award for successfully solving complex Computer Architecture problems\n",
        "PROJECTS\n",
        "Depression Detection Using Hybrid Deep Learning Model. Designed and implemented a hybrid deep learning\n",
        "model combining advanced machine learning and deep learning algorithms to predict a person’s depression level\n",
        "with high accuracy. The project included the development of a user-friendly application for individuals to assess\n",
        "their mental health and a web platform enabling interaction with psychiatrists for therapy sessions and connecting\n",
        "doctors with their patients. The solution integrated multiple algorithms to enhance prediction reliability and user\n",
        "accessibility..\n",
        "Depression detection using Machine Learning. Developed a machine learning model to detect and assess\n",
        "depression levels using a combination of sentiment analysis and facial recognition. The project utilized the Naive\n",
        "Bayes algorithm for sentiment classification based on textual data and Mediapipe for real-time facial recognition and\n",
        "feature extraction. By analyzing emotional expressions and sentiment from input data, the model effectively identified\n",
        "patterns indicative of depression, offering a potential tool for mental health monitoring and early intervention.\n",
        "Python AI Code Generation Bot. Developed a Python-based application that uses OpenAI’s GPT-3 API to\n",
        "dynamically generate and execute Python code for processing CSV files based on user instructions. The system\n",
        "allows users to upload CSV files and input commands through a Flask-based web interface, generating Python scripts\n",
        "to manipulate the data and displaying the results in real-time. Integrated Pandas for efficient data handling and\n",
        "implemented error handling for secure code execution, showcasing expertise in AI integration, web development, and\n",
        "data processing.\n",
        "WebProbe -Web App Security Scanner. Developed a Python-based web vulnerability scanner utilizing the\n",
        "Flask framework, enabling authenticated users to input URLs for comprehensive security assessments. The appli\u0002cation systematically tests for common vulnerabilities, including SQL Injection and Cross-Site Scripting (XSS), by\n",
        "analyzing web forms and URL parameters. Scan results are stored in a database and presented through a user-friendly\n",
        "dashboard, facilitating efficient review and management of identified security issues. This project demonstrates pro\u0002ficiency in web application security, Python programming, and the implementation of secure user authentication\n",
        "mechanisms.\n",
        "Retail Sales Data Analysis using EDA. Conducted an in-depth Exploratory Data Analysis (EDA) on a retail\n",
        "sales dataset to uncover key business insights and trends. The project involved data cleaning, preprocessing, and\n",
        "analysis using Python. Visualizations were created with Matplotlib and Seaborn to identify patterns in sales, customer\n",
        "behavior, and product performance. Key findings included seasonal sales trends, top-performing products, and\n",
        "insights into customer purchasing habits, enabling data-driven decision-making for retail strategies.\n",
        "Sales Analysis using Power BI. Developed an interactive sales analysis dashboard in Power BI to visualize and\n",
        "track key business metrics and KPIs. The project involved cleaning and preparing the dataset, implementing DAX\n",
        "functions for advanced calculations, and designing an intuitive dashboard with bookmarks and navigation features\n",
        "for seamless user experience. Key metrics such as revenue, profit margins, and sales trends were analyzed, enabling\n",
        "data-driven decision-making and real-time monitoring of business performance.\n",
        "EXTRA-CURRICULAR ACTIVITIES\n",
        "• NSS Volunteer Secretary: Led the college NSS Community and conducted the activities.\n",
        "• Computer Association Head: Led the Computer association activities.\n",
        "• Student Police Cadet: Served as a Student Police Cadet during School Days\"\"\""
      ],
      "metadata": {
        "id": "c9arEcvY4BUw"
      },
      "execution_count": null,
      "outputs": []
    },
    {
      "cell_type": "code",
      "source": [
        "entities=extract_entities(resume_text)\n",
        "similarity=match_resume_with_job(resume_text,job_description)\n",
        "\n",
        "print(\"Entities:\",entities)\n",
        "print(\"Similarity Score:\", round(similarity*100,2), \"%\")"
      ],
      "metadata": {
        "colab": {
          "base_uri": "https://localhost:8080/"
        },
        "id": "uqb9U3rR4uOO",
        "outputId": "643a6d0b-7630-49a5-e508-2c2876288b7c"
      },
      "execution_count": null,
      "outputs": [
        {
          "output_type": "stream",
          "name": "stdout",
          "text": [
            "Entities: {380: 'Integrated Pandas', 384: 'XSS', 386: '• Developed', 381: 'Software', 383: '• Student Police Cadet: Served', 391: '2018', 397: 'analyzingwebformsandURLparameters', 393: '100 %', 388: 'First Prize in All Kerala Hackathon', 392: '48 Hour Hackathon', 387: 'School Days', 390: 'Python AI Code Generation Bot'}\n",
            "Similarity Score: 98.73 %\n"
          ]
        }
      ]
    }
  ]
}